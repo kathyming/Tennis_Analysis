{
 "cells": [
  {
   "cell_type": "code",
   "execution_count": null,
   "id": "9b1953ac",
   "metadata": {},
   "outputs": [],
   "source": [
    "#Import Dependencies"
   ]
  },
  {
   "cell_type": "code",
   "execution_count": null,
   "id": "f1b5e077",
   "metadata": {},
   "outputs": [],
   "source": [
    "#Create Dataframe"
   ]
  },
  {
   "cell_type": "code",
   "execution_count": null,
   "id": "273190bb",
   "metadata": {},
   "outputs": [],
   "source": [
    "#Check datatypes for columns"
   ]
  },
  {
   "cell_type": "code",
   "execution_count": null,
   "id": "b3a7bfeb",
   "metadata": {},
   "outputs": [],
   "source": []
  }
 ],
 "metadata": {
  "kernelspec": {
   "display_name": "Python 3 (ipykernel)",
   "language": "python",
   "name": "python3"
  },
  "language_info": {
   "codemirror_mode": {
    "name": "ipython",
    "version": 3
   },
   "file_extension": ".py",
   "mimetype": "text/x-python",
   "name": "python",
   "nbconvert_exporter": "python",
   "pygments_lexer": "ipython3",
   "version": "3.7.13"
  }
 },
 "nbformat": 4,
 "nbformat_minor": 5
}
